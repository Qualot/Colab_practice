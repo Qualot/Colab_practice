{
  "nbformat": 4,
  "nbformat_minor": 0,
  "metadata": {
    "colab": {
      "provenance": [],
      "authorship_tag": "ABX9TyM/DGuucPqyQl48NrXvJ8AE",
      "include_colab_link": true
    },
    "kernelspec": {
      "name": "python3",
      "display_name": "Python 3"
    },
    "language_info": {
      "name": "python"
    }
  },
  "cells": [
    {
      "cell_type": "markdown",
      "metadata": {
        "id": "view-in-github",
        "colab_type": "text"
      },
      "source": [
        "<a href=\"https://colab.research.google.com/github/Qualot/Colab_practice/blob/main/plot_example.ipynb\" target=\"_parent\"><img src=\"https://colab.research.google.com/assets/colab-badge.svg\" alt=\"Open In Colab\"/></a>"
      ]
    },
    {
      "cell_type": "code",
      "execution_count": 2,
      "metadata": {
        "id": "K5WMdJHXq2GV"
      },
      "outputs": [],
      "source": [
        "import numpy as np\n",
        "import matplotlib.pyplot as plt\n",
        "from tqdm import tqdm"
      ]
    },
    {
      "cell_type": "markdown",
      "source": [
        "#np.array"
      ],
      "metadata": {
        "id": "vYHq34xkrucA"
      }
    },
    {
      "cell_type": "code",
      "source": [
        "x = np.array([1, 2, 3])\n",
        "y = np.array([4, 5, 6])\n",
        "print(x+y)\n",
        "print(np.dot(x, y))"
      ],
      "metadata": {
        "colab": {
          "base_uri": "https://localhost:8080/"
        },
        "id": "Mji6_VyWq6NY",
        "outputId": "5695df81-8e70-4a79-8867-6d0add9fee9c"
      },
      "execution_count": 3,
      "outputs": [
        {
          "output_type": "stream",
          "name": "stdout",
          "text": [
            "[5 7 9]\n",
            "32\n"
          ]
        }
      ]
    },
    {
      "cell_type": "markdown",
      "source": [
        "#Multi-dimensional array"
      ],
      "metadata": {
        "id": "S3oYZ_GP0vff"
      }
    },
    {
      "cell_type": "code",
      "source": [
        "N=3\n",
        "C=3\n",
        "H=4\n",
        "W=4\n",
        "X = np.random.rand(N, C, H, W)  #3 data, 3 channels, 4x4 pixels (yes, too low resolution)\n",
        "print(X)"
      ],
      "metadata": {
        "colab": {
          "base_uri": "https://localhost:8080/"
        },
        "id": "zudjeESg0u2C",
        "outputId": "099d3400-36ac-4014-8436-47319bc45f80"
      },
      "execution_count": 13,
      "outputs": [
        {
          "output_type": "stream",
          "name": "stdout",
          "text": [
            "[[[[0.44555898 0.34956027 0.91235313 0.82185838]\n",
            "   [0.25725476 0.25980053 0.43277928 0.73241667]\n",
            "   [0.60212056 0.53027479 0.52283011 0.5370124 ]\n",
            "   [0.5145754  0.57424834 0.85074292 0.06854724]]\n",
            "\n",
            "  [[0.23534858 0.64330448 0.41698368 0.50161564]\n",
            "   [0.36276402 0.49899431 0.39474112 0.0206182 ]\n",
            "   [0.16102839 0.23648026 0.88848966 0.89426444]\n",
            "   [0.34186105 0.42041593 0.56547598 0.53955014]]\n",
            "\n",
            "  [[0.50651799 0.48656839 0.71174969 0.20221695]\n",
            "   [0.34423857 0.19988636 0.45474559 0.88484698]\n",
            "   [0.90102131 0.79064674 0.17576063 0.59200025]\n",
            "   [0.50366745 0.41016267 0.77603783 0.30064276]]]\n",
            "\n",
            "\n",
            " [[[0.96836264 0.69500223 0.62501404 0.21275082]\n",
            "   [0.65632444 0.77831487 0.18280301 0.90157065]\n",
            "   [0.45842346 0.63584058 0.67503749 0.53667409]\n",
            "   [0.0804545  0.3598294  0.12346913 0.9471073 ]]\n",
            "\n",
            "  [[0.64471671 0.26731962 0.78834254 0.27996587]\n",
            "   [0.39522335 0.50260584 0.74534375 0.30190631]\n",
            "   [0.95278692 0.22426185 0.70652265 0.23893022]\n",
            "   [0.59911096 0.40740564 0.05500487 0.07144905]]\n",
            "\n",
            "  [[0.03480733 0.29038694 0.17918296 0.96392666]\n",
            "   [0.16865213 0.47772583 0.6506722  0.39526055]\n",
            "   [0.08094172 0.76291937 0.73053577 0.25274705]\n",
            "   [0.12990887 0.41863512 0.50438747 0.25299506]]]\n",
            "\n",
            "\n",
            " [[[0.04067088 0.12415576 0.10786131 0.64522859]\n",
            "   [0.06095131 0.95357522 0.32764864 0.01406443]\n",
            "   [0.15335063 0.6146297  0.20325707 0.36207695]\n",
            "   [0.59510563 0.96231297 0.11309863 0.72867928]]\n",
            "\n",
            "  [[0.26509633 0.79875479 0.85068031 0.46933147]\n",
            "   [0.51899213 0.07281261 0.11259479 0.90192664]\n",
            "   [0.69962723 0.48925204 0.42313516 0.04168467]\n",
            "   [0.82142793 0.53687307 0.55338961 0.12277579]]\n",
            "\n",
            "  [[0.2331524  0.27805201 0.0855386  0.54296777]\n",
            "   [0.94708625 0.55303694 0.59964624 0.79257859]\n",
            "   [0.22039067 0.81476566 0.16277726 0.18518514]\n",
            "   [0.70542825 0.94521703 0.17311827 0.43747912]]]]\n"
          ]
        }
      ]
    },
    {
      "cell_type": "code",
      "source": [
        "F_N=4\n",
        "F_H=2\n",
        "F_W=2\n",
        "W = np.random.rand(F_N, C, F_H, F_W) #4 filters, 3 channels, 2x2 pixels\n",
        "print(W)"
      ],
      "metadata": {
        "id": "rt7F68Tk13c4",
        "outputId": "21b1acd3-6446-462e-dc11-236bd61890d3",
        "colab": {
          "base_uri": "https://localhost:8080/"
        }
      },
      "execution_count": 14,
      "outputs": [
        {
          "output_type": "stream",
          "name": "stdout",
          "text": [
            "[[[[0.93043861 0.2751807 ]\n",
            "   [0.06689613 0.92023058]]\n",
            "\n",
            "  [[0.73388503 0.59908208]\n",
            "   [0.74893619 0.47818028]]\n",
            "\n",
            "  [[0.7262043  0.58160387]\n",
            "   [0.70706537 0.61165476]]]\n",
            "\n",
            "\n",
            " [[[0.19519871 0.20724222]\n",
            "   [0.89421486 0.1151713 ]]\n",
            "\n",
            "  [[0.34401216 0.74407245]\n",
            "   [0.54740089 0.56153059]]\n",
            "\n",
            "  [[0.36894723 0.21463484]\n",
            "   [0.38583472 0.59607913]]]\n",
            "\n",
            "\n",
            " [[[0.78243062 0.44018893]\n",
            "   [0.27600923 0.42332324]]\n",
            "\n",
            "  [[0.45957644 0.71173686]\n",
            "   [0.49697163 0.60581034]]\n",
            "\n",
            "  [[0.98532081 0.75307548]\n",
            "   [0.06763196 0.09345967]]]\n",
            "\n",
            "\n",
            " [[[0.87122115 0.67728635]\n",
            "   [0.20010449 0.27294241]]\n",
            "\n",
            "  [[0.79510983 0.01085386]\n",
            "   [0.69643301 0.4493041 ]]\n",
            "\n",
            "  [[0.5276469  0.00537943]\n",
            "   [0.39036202 0.41578196]]]]\n"
          ]
        }
      ]
    },
    {
      "cell_type": "code",
      "source": [
        "O_H=3\n",
        "O_W=3\n",
        "col = np.zeros((N, C, F_H, F_W, O_H, O_W))\n",
        "print(col)"
      ],
      "metadata": {
        "id": "nRchKaBz2FPL",
        "outputId": "67cd1ca8-5a29-44dd-9eef-52b316a6315e",
        "colab": {
          "base_uri": "https://localhost:8080/"
        }
      },
      "execution_count": 15,
      "outputs": [
        {
          "output_type": "stream",
          "name": "stdout",
          "text": [
            "[[[[[[0. 0. 0.]\n",
            "     [0. 0. 0.]\n",
            "     [0. 0. 0.]]\n",
            "\n",
            "    [[0. 0. 0.]\n",
            "     [0. 0. 0.]\n",
            "     [0. 0. 0.]]]\n",
            "\n",
            "\n",
            "   [[[0. 0. 0.]\n",
            "     [0. 0. 0.]\n",
            "     [0. 0. 0.]]\n",
            "\n",
            "    [[0. 0. 0.]\n",
            "     [0. 0. 0.]\n",
            "     [0. 0. 0.]]]]\n",
            "\n",
            "\n",
            "\n",
            "  [[[[0. 0. 0.]\n",
            "     [0. 0. 0.]\n",
            "     [0. 0. 0.]]\n",
            "\n",
            "    [[0. 0. 0.]\n",
            "     [0. 0. 0.]\n",
            "     [0. 0. 0.]]]\n",
            "\n",
            "\n",
            "   [[[0. 0. 0.]\n",
            "     [0. 0. 0.]\n",
            "     [0. 0. 0.]]\n",
            "\n",
            "    [[0. 0. 0.]\n",
            "     [0. 0. 0.]\n",
            "     [0. 0. 0.]]]]\n",
            "\n",
            "\n",
            "\n",
            "  [[[[0. 0. 0.]\n",
            "     [0. 0. 0.]\n",
            "     [0. 0. 0.]]\n",
            "\n",
            "    [[0. 0. 0.]\n",
            "     [0. 0. 0.]\n",
            "     [0. 0. 0.]]]\n",
            "\n",
            "\n",
            "   [[[0. 0. 0.]\n",
            "     [0. 0. 0.]\n",
            "     [0. 0. 0.]]\n",
            "\n",
            "    [[0. 0. 0.]\n",
            "     [0. 0. 0.]\n",
            "     [0. 0. 0.]]]]]\n",
            "\n",
            "\n",
            "\n",
            "\n",
            " [[[[[0. 0. 0.]\n",
            "     [0. 0. 0.]\n",
            "     [0. 0. 0.]]\n",
            "\n",
            "    [[0. 0. 0.]\n",
            "     [0. 0. 0.]\n",
            "     [0. 0. 0.]]]\n",
            "\n",
            "\n",
            "   [[[0. 0. 0.]\n",
            "     [0. 0. 0.]\n",
            "     [0. 0. 0.]]\n",
            "\n",
            "    [[0. 0. 0.]\n",
            "     [0. 0. 0.]\n",
            "     [0. 0. 0.]]]]\n",
            "\n",
            "\n",
            "\n",
            "  [[[[0. 0. 0.]\n",
            "     [0. 0. 0.]\n",
            "     [0. 0. 0.]]\n",
            "\n",
            "    [[0. 0. 0.]\n",
            "     [0. 0. 0.]\n",
            "     [0. 0. 0.]]]\n",
            "\n",
            "\n",
            "   [[[0. 0. 0.]\n",
            "     [0. 0. 0.]\n",
            "     [0. 0. 0.]]\n",
            "\n",
            "    [[0. 0. 0.]\n",
            "     [0. 0. 0.]\n",
            "     [0. 0. 0.]]]]\n",
            "\n",
            "\n",
            "\n",
            "  [[[[0. 0. 0.]\n",
            "     [0. 0. 0.]\n",
            "     [0. 0. 0.]]\n",
            "\n",
            "    [[0. 0. 0.]\n",
            "     [0. 0. 0.]\n",
            "     [0. 0. 0.]]]\n",
            "\n",
            "\n",
            "   [[[0. 0. 0.]\n",
            "     [0. 0. 0.]\n",
            "     [0. 0. 0.]]\n",
            "\n",
            "    [[0. 0. 0.]\n",
            "     [0. 0. 0.]\n",
            "     [0. 0. 0.]]]]]\n",
            "\n",
            "\n",
            "\n",
            "\n",
            " [[[[[0. 0. 0.]\n",
            "     [0. 0. 0.]\n",
            "     [0. 0. 0.]]\n",
            "\n",
            "    [[0. 0. 0.]\n",
            "     [0. 0. 0.]\n",
            "     [0. 0. 0.]]]\n",
            "\n",
            "\n",
            "   [[[0. 0. 0.]\n",
            "     [0. 0. 0.]\n",
            "     [0. 0. 0.]]\n",
            "\n",
            "    [[0. 0. 0.]\n",
            "     [0. 0. 0.]\n",
            "     [0. 0. 0.]]]]\n",
            "\n",
            "\n",
            "\n",
            "  [[[[0. 0. 0.]\n",
            "     [0. 0. 0.]\n",
            "     [0. 0. 0.]]\n",
            "\n",
            "    [[0. 0. 0.]\n",
            "     [0. 0. 0.]\n",
            "     [0. 0. 0.]]]\n",
            "\n",
            "\n",
            "   [[[0. 0. 0.]\n",
            "     [0. 0. 0.]\n",
            "     [0. 0. 0.]]\n",
            "\n",
            "    [[0. 0. 0.]\n",
            "     [0. 0. 0.]\n",
            "     [0. 0. 0.]]]]\n",
            "\n",
            "\n",
            "\n",
            "  [[[[0. 0. 0.]\n",
            "     [0. 0. 0.]\n",
            "     [0. 0. 0.]]\n",
            "\n",
            "    [[0. 0. 0.]\n",
            "     [0. 0. 0.]\n",
            "     [0. 0. 0.]]]\n",
            "\n",
            "\n",
            "   [[[0. 0. 0.]\n",
            "     [0. 0. 0.]\n",
            "     [0. 0. 0.]]\n",
            "\n",
            "    [[0. 0. 0.]\n",
            "     [0. 0. 0.]\n",
            "     [0. 0. 0.]]]]]]\n"
          ]
        }
      ]
    },
    {
      "cell_type": "markdown",
      "source": [
        "#plot"
      ],
      "metadata": {
        "id": "7ZiGxJUxrwE_"
      }
    },
    {
      "cell_type": "code",
      "source": [
        "x = np.arange(0, 6, 0.1)\n",
        "y1 = np.sin(x)\n",
        "y2 = np.cos(x)\n",
        "\n",
        "print(x)\n",
        "print(y1)\n",
        "print(y2)"
      ],
      "metadata": {
        "colab": {
          "base_uri": "https://localhost:8080/"
        },
        "id": "n5OpJrRdriMl",
        "outputId": "00854cae-68d5-421e-b9b9-dcc2b1ed1a37"
      },
      "execution_count": null,
      "outputs": [
        {
          "output_type": "stream",
          "name": "stdout",
          "text": [
            "[0.  0.1 0.2 0.3 0.4 0.5 0.6 0.7 0.8 0.9 1.  1.1 1.2 1.3 1.4 1.5 1.6 1.7\n",
            " 1.8 1.9 2.  2.1 2.2 2.3 2.4 2.5 2.6 2.7 2.8 2.9 3.  3.1 3.2 3.3 3.4 3.5\n",
            " 3.6 3.7 3.8 3.9 4.  4.1 4.2 4.3 4.4 4.5 4.6 4.7 4.8 4.9 5.  5.1 5.2 5.3\n",
            " 5.4 5.5 5.6 5.7 5.8 5.9]\n",
            "[ 0.          0.09983342  0.19866933  0.29552021  0.38941834  0.47942554\n",
            "  0.56464247  0.64421769  0.71735609  0.78332691  0.84147098  0.89120736\n",
            "  0.93203909  0.96355819  0.98544973  0.99749499  0.9995736   0.99166481\n",
            "  0.97384763  0.94630009  0.90929743  0.86320937  0.8084964   0.74570521\n",
            "  0.67546318  0.59847214  0.51550137  0.42737988  0.33498815  0.23924933\n",
            "  0.14112001  0.04158066 -0.05837414 -0.15774569 -0.2555411  -0.35078323\n",
            " -0.44252044 -0.52983614 -0.61185789 -0.68776616 -0.7568025  -0.81827711\n",
            " -0.87157577 -0.91616594 -0.95160207 -0.97753012 -0.993691   -0.99992326\n",
            " -0.99616461 -0.98245261 -0.95892427 -0.92581468 -0.88345466 -0.83226744\n",
            " -0.77276449 -0.70554033 -0.63126664 -0.55068554 -0.46460218 -0.37387666]\n",
            "[ 1.          0.99500417  0.98006658  0.95533649  0.92106099  0.87758256\n",
            "  0.82533561  0.76484219  0.69670671  0.62160997  0.54030231  0.45359612\n",
            "  0.36235775  0.26749883  0.16996714  0.0707372  -0.02919952 -0.12884449\n",
            " -0.22720209 -0.32328957 -0.41614684 -0.5048461  -0.58850112 -0.66627602\n",
            " -0.73739372 -0.80114362 -0.85688875 -0.90407214 -0.94222234 -0.97095817\n",
            " -0.9899925  -0.99913515 -0.99829478 -0.98747977 -0.96679819 -0.93645669\n",
            " -0.89675842 -0.84810003 -0.79096771 -0.7259323  -0.65364362 -0.57482395\n",
            " -0.49026082 -0.40079917 -0.30733287 -0.2107958  -0.11215253 -0.01238866\n",
            "  0.08749898  0.18651237  0.28366219  0.37797774  0.46851667  0.55437434\n",
            "  0.63469288  0.70866977  0.77556588  0.83471278  0.88551952  0.92747843]\n"
          ]
        }
      ]
    },
    {
      "cell_type": "code",
      "source": [
        "plt.plot(x, y1, label=\"sin\")\n",
        "plt.plot(x, y2, label=\"sin\")\n",
        "plt.xlabel(\"x\")\n",
        "plt.xlabel(\"y\")\n",
        "plt.title('sin & cos')\n",
        "plt.legend()\n",
        "plt.show()"
      ],
      "metadata": {
        "colab": {
          "base_uri": "https://localhost:8080/",
          "height": 472
        },
        "id": "RojB4X8Ir5XW",
        "outputId": "adbb49e7-5bed-4b78-ad5a-0c74a7ad2f84"
      },
      "execution_count": null,
      "outputs": [
        {
          "output_type": "display_data",
          "data": {
            "text/plain": [
              "<Figure size 640x480 with 1 Axes>"
            ],
            "image/png": "[encoded data removed]"
          },
          "metadata": {}
        }
      ]
    }
  ]
}