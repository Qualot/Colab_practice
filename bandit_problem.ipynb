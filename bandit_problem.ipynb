{
  "nbformat": 4,
  "nbformat_minor": 0,
  "metadata": {
    "colab": {
      "provenance": [],
      "authorship_tag": "ABX9TyO8DmWYpymMPGRD4uIjinFz",
      "include_colab_link": true
    },
    "kernelspec": {
      "name": "python3",
      "display_name": "Python 3"
    },
    "language_info": {
      "name": "python"
    }
  },
  "cells": [
    {
      "cell_type": "markdown",
      "metadata": {
        "id": "view-in-github",
        "colab_type": "text"
      },
      "source": [
        "<a href=\"https://colab.research.google.com/github/Qualot/Colab_practice/blob/main/bandit_problem.ipynb\" target=\"_parent\"><img src=\"https://colab.research.google.com/assets/colab-badge.svg\" alt=\"Open In Colab\"/></a>"
      ]
    },
    {
      "cell_type": "markdown",
      "source": [
        "#Bandit problem (from zerotsuku book)"
      ],
      "metadata": {
        "id": "RFeR9u9gHcSt"
      }
    },
    {
      "cell_type": "code",
      "execution_count": 1,
      "metadata": {
        "id": "scjxMRcZHZT0"
      },
      "outputs": [],
      "source": [
        "import numpy as np\n",
        "np.random.seed(0)\n",
        "rewards = []"
      ]
    },
    {
      "cell_type": "code",
      "source": [
        "for n in range(1, 11):\n",
        "    reward = np.random.rand()\n",
        "    rewards.append(reward)\n",
        "    Q = sum(rewards)/n\n",
        "    print(Q)"
      ],
      "metadata": {
        "colab": {
          "base_uri": "https://localhost:8080/"
        },
        "id": "tYhrd0kyJ6q7",
        "outputId": "4d455350-5bef-41ad-e89e-aa84e2e3f1e2"
      },
      "execution_count": null,
      "outputs": [
        {
          "output_type": "stream",
          "name": "stdout",
          "text": [
            "0.5488135039273248\n",
            "0.6320014351498722\n",
            "0.6222554154571295\n",
            "0.6029123573420713\n",
            "0.567060845741438\n",
            "0.5801997236289743\n",
            "0.5598265075766483\n",
            "0.6013198192273272\n",
            "0.6415801460355164\n",
            "0.6157662833145425\n"
          ]
        }
      ]
    },
    {
      "cell_type": "code",
      "source": [
        "Q = 0\n",
        "\n",
        "for n in range(1, 11):\n",
        "  reward = np.random.rand()\n",
        "  Q = Q + (reward - Q)/n\n",
        "  print(Q)\n"
      ],
      "metadata": {
        "colab": {
          "base_uri": "https://localhost:8080/"
        },
        "id": "mfSoGtMVKPhD",
        "outputId": "1ffbcf21-f720-4f9b-d956-f5ac5dcb8db7"
      },
      "execution_count": null,
      "outputs": [
        {
          "output_type": "stream",
          "name": "stdout",
          "text": [
            "0.7917250380826646\n",
            "0.6603099789177845\n",
            "0.6295548396431672\n",
            "0.7035652893055406\n",
            "0.5770594430840099\n",
            "0.49540441918693173\n",
            "0.4275207017945595\n",
            "0.4781580947637318\n",
            "0.5114912787844116\n",
            "0.5473433657306523\n"
          ]
        }
      ]
    },
    {
      "cell_type": "markdown",
      "source": [
        "#Bandit class"
      ],
      "metadata": {
        "id": "191s9cNVM_w8"
      }
    },
    {
      "cell_type": "code",
      "source": [
        "class Bandit:\n",
        "  def __init__(self, arms=10):\n",
        "    self.rates = np.random.rand(arms)\n",
        "\n",
        "  def play(self, arm):\n",
        "    rate = self.rates[arm]\n",
        "    if rate > np.random.rand():\n",
        "      return 1\n",
        "    else:\n",
        "      return 0"
      ],
      "metadata": {
        "id": "1Cm0rI70LBfL"
      },
      "execution_count": 3,
      "outputs": []
    },
    {
      "cell_type": "code",
      "source": [
        "bandit = Bandit()\n",
        "\n",
        "for i in range(10):\n",
        "  print(bandit.play(i))"
      ],
      "metadata": {
        "id": "ekm4VR1fNBft",
        "outputId": "7af2a018-bf4a-4501-d176-d814f75d0761",
        "colab": {
          "base_uri": "https://localhost:8080/"
        }
      },
      "execution_count": 4,
      "outputs": [
        {
          "output_type": "stream",
          "name": "stdout",
          "text": [
            "0\n",
            "1\n",
            "1\n",
            "0\n",
            "1\n",
            "1\n",
            "1\n",
            "1\n",
            "1\n",
            "0\n"
          ]
        }
      ]
    },
    {
      "cell_type": "code",
      "source": [
        "bandit = Bandit()\n",
        "Q = 0\n",
        "\n",
        "for n in range(1, 11):\n",
        "  reward = bandit.play(0)\n",
        "  Q += (reward - Q) / n\n",
        "  print(Q)"
      ],
      "metadata": {
        "colab": {
          "base_uri": "https://localhost:8080/"
        },
        "id": "ya05zFICbQGb",
        "outputId": "da414dfb-2e1a-432a-ce15-2c82aa1560e3"
      },
      "execution_count": 6,
      "outputs": [
        {
          "output_type": "stream",
          "name": "stdout",
          "text": [
            "0.0\n",
            "0.0\n",
            "0.0\n",
            "0.25\n",
            "0.4\n",
            "0.5\n",
            "0.4285714285714286\n",
            "0.5\n",
            "0.4444444444444444\n",
            "0.5\n"
          ]
        }
      ]
    },
    {
      "cell_type": "code",
      "source": [
        "bandit = Bandit()\n",
        "Qs = np.zeros(10)\n",
        "ns = np.zeros(10)"
      ],
      "metadata": {
        "id": "dLjAczg-bY7F"
      },
      "execution_count": 9,
      "outputs": []
    },
    {
      "cell_type": "code",
      "source": [
        "for n in range(10):\n",
        "  action = np.random.randint(0, 10)\n",
        "  reward = bandit.play(action)\n",
        "\n",
        "  ns[action] += 1\n",
        "  Qs[action] += (reward - Qs[action]) / ns[action]\n",
        "  print(Qs)"
      ],
      "metadata": {
        "id": "9WAEv-IycAH5",
        "outputId": "d2cf0d2e-d0cb-4a36-83a5-3573325f5404",
        "colab": {
          "base_uri": "https://localhost:8080/"
        }
      },
      "execution_count": 10,
      "outputs": [
        {
          "output_type": "stream",
          "name": "stdout",
          "text": [
            "[0. 0. 0. 0. 0. 0. 0. 0. 1. 0.]\n",
            "[0.  0.  0.  0.  0.  0.  0.  0.  0.5 0. ]\n",
            "[0.  0.  0.  0.  0.  0.  0.  0.  0.5 0. ]\n",
            "[0.  0.  0.  0.  0.  0.  0.  0.  0.5 0. ]\n",
            "[0.  0.  0.  0.  0.  0.  0.  0.  0.5 0. ]\n",
            "[0.  0.  1.  0.  0.  0.  0.  0.  0.5 0. ]\n",
            "[0.  0.  1.  0.  0.  0.  0.  0.  0.5 0. ]\n",
            "[0.  0.  1.  0.  0.  0.  0.  0.  0.5 0. ]\n",
            "[0.  0.  1.  0.  0.  0.  0.  0.  0.5 0. ]\n",
            "[0.         0.         1.         0.         0.         0.\n",
            " 0.         0.         0.33333333 0.        ]\n"
          ]
        }
      ]
    },
    {
      "cell_type": "code",
      "source": [],
      "metadata": {
        "id": "IvC83RTacX-6"
      },
      "execution_count": null,
      "outputs": []
    }
  ]
}